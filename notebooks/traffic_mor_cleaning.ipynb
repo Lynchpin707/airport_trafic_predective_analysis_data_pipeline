{
 "cells": [
  {
   "cell_type": "markdown",
   "id": "abbbce33",
   "metadata": {},
   "source": [
    "Data cleaning and visualisation script"
   ]
  },
  {
   "cell_type": "code",
   "execution_count": 50,
   "id": "65ce5717",
   "metadata": {},
   "outputs": [],
   "source": [
    "#importing the needed libraries\n",
    "import pandas as pd\n",
    "import seaborn as sns\n",
    "import matplotlib.pyplot as plt"
   ]
  },
  {
   "cell_type": "code",
   "execution_count": 51,
   "id": "978b59b5",
   "metadata": {},
   "outputs": [],
   "source": [
    "#load the data from the respective file\n",
    "df = pd.read_csv('trafic_ma_long.csv')\n"
   ]
  },
  {
   "cell_type": "code",
   "execution_count": 52,
   "id": "56f6c00a",
   "metadata": {},
   "outputs": [
    {
     "data": {
      "text/html": [
       "<div>\n",
       "<style scoped>\n",
       "    .dataframe tbody tr th:only-of-type {\n",
       "        vertical-align: middle;\n",
       "    }\n",
       "\n",
       "    .dataframe tbody tr th {\n",
       "        vertical-align: top;\n",
       "    }\n",
       "\n",
       "    .dataframe thead th {\n",
       "        text-align: right;\n",
       "    }\n",
       "</style>\n",
       "<table border=\"1\" class=\"dataframe\">\n",
       "  <thead>\n",
       "    <tr style=\"text-align: right;\">\n",
       "      <th>Month</th>\n",
       "      <th>airport</th>\n",
       "      <th>year</th>\n",
       "      <th>cumulative_annual</th>\n",
       "      <th>s1</th>\n",
       "    </tr>\n",
       "  </thead>\n",
       "  <tbody>\n",
       "    <tr>\n",
       "      <th>0</th>\n",
       "      <td>agadir</td>\n",
       "      <td>2009</td>\n",
       "      <td>1456217.0</td>\n",
       "      <td>NaN</td>\n",
       "    </tr>\n",
       "    <tr>\n",
       "      <th>1</th>\n",
       "      <td>agadir</td>\n",
       "      <td>2010</td>\n",
       "      <td>1627485.0</td>\n",
       "      <td>762741.0</td>\n",
       "    </tr>\n",
       "    <tr>\n",
       "      <th>2</th>\n",
       "      <td>agadir</td>\n",
       "      <td>2011</td>\n",
       "      <td>1516247.0</td>\n",
       "      <td>771894.0</td>\n",
       "    </tr>\n",
       "    <tr>\n",
       "      <th>3</th>\n",
       "      <td>agadir</td>\n",
       "      <td>2012</td>\n",
       "      <td>1384931.0</td>\n",
       "      <td>661106.0</td>\n",
       "    </tr>\n",
       "    <tr>\n",
       "      <th>4</th>\n",
       "      <td>agadir</td>\n",
       "      <td>2013</td>\n",
       "      <td>1479341.0</td>\n",
       "      <td>698320.0</td>\n",
       "    </tr>\n",
       "  </tbody>\n",
       "</table>\n",
       "</div>"
      ],
      "text/plain": [
       "Month airport  year  cumulative_annual        s1\n",
       "0      agadir  2009          1456217.0       NaN\n",
       "1      agadir  2010          1627485.0  762741.0\n",
       "2      agadir  2011          1516247.0  771894.0\n",
       "3      agadir  2012          1384931.0  661106.0\n",
       "4      agadir  2013          1479341.0  698320.0"
      ]
     },
     "execution_count": 52,
     "metadata": {},
     "output_type": "execute_result"
    }
   ],
   "source": [
    "#Transforming the tables to compare Jan-Jun traffic to that of the entire year (cumulative)\n",
    "df_pivot = df.pivot_table(index=[\"Airport\", \"Year\"], \n",
    "                          columns=\"Month\", \n",
    "                          values=\"Traffic\").reset_index()\n",
    "#Renaming columns to respect our naming conventions\n",
    "df_pivot = df_pivot.rename(columns={\n",
    "    \"Dec\": \"cumulative_annual\",\n",
    "    \"Jun\": \"s1\",\n",
    "    \"Airport\":\"airport\",\n",
    "    \"Year\":\"year\"\n",
    "})\n",
    "df_pivot['airport']=df_pivot['airport'].str.lower()\n",
    "\n",
    "df_pivot.head()"
   ]
  },
  {
   "cell_type": "code",
   "execution_count": 53,
   "id": "f2e672c6",
   "metadata": {},
   "outputs": [
    {
     "data": {
      "text/html": [
       "<div>\n",
       "<style scoped>\n",
       "    .dataframe tbody tr th:only-of-type {\n",
       "        vertical-align: middle;\n",
       "    }\n",
       "\n",
       "    .dataframe tbody tr th {\n",
       "        vertical-align: top;\n",
       "    }\n",
       "\n",
       "    .dataframe thead th {\n",
       "        text-align: right;\n",
       "    }\n",
       "</style>\n",
       "<table border=\"1\" class=\"dataframe\">\n",
       "  <thead>\n",
       "    <tr style=\"text-align: right;\">\n",
       "      <th></th>\n",
       "      <th>airport</th>\n",
       "      <th>year</th>\n",
       "      <th>semester</th>\n",
       "      <th>traffic</th>\n",
       "      <th>period</th>\n",
       "    </tr>\n",
       "  </thead>\n",
       "  <tbody>\n",
       "    <tr>\n",
       "      <th>0</th>\n",
       "      <td>agadir</td>\n",
       "      <td>2009</td>\n",
       "      <td>s1</td>\n",
       "      <td>NaN</td>\n",
       "      <td>2009_s1</td>\n",
       "    </tr>\n",
       "    <tr>\n",
       "      <th>1</th>\n",
       "      <td>agadir</td>\n",
       "      <td>2009</td>\n",
       "      <td>s2</td>\n",
       "      <td>NaN</td>\n",
       "      <td>2009_s2</td>\n",
       "    </tr>\n",
       "    <tr>\n",
       "      <th>2</th>\n",
       "      <td>agadir</td>\n",
       "      <td>2010</td>\n",
       "      <td>s1</td>\n",
       "      <td>762741.0</td>\n",
       "      <td>2010_s1</td>\n",
       "    </tr>\n",
       "    <tr>\n",
       "      <th>3</th>\n",
       "      <td>agadir</td>\n",
       "      <td>2010</td>\n",
       "      <td>s2</td>\n",
       "      <td>864744.0</td>\n",
       "      <td>2010_s2</td>\n",
       "    </tr>\n",
       "    <tr>\n",
       "      <th>4</th>\n",
       "      <td>agadir</td>\n",
       "      <td>2011</td>\n",
       "      <td>s1</td>\n",
       "      <td>771894.0</td>\n",
       "      <td>2011_s1</td>\n",
       "    </tr>\n",
       "  </tbody>\n",
       "</table>\n",
       "</div>"
      ],
      "text/plain": [
       "  airport  year semester   traffic   period\n",
       "0  agadir  2009       s1       NaN  2009_s1\n",
       "1  agadir  2009       s2       NaN  2009_s2\n",
       "2  agadir  2010       s1  762741.0  2010_s1\n",
       "3  agadir  2010       s2  864744.0  2010_s2\n",
       "4  agadir  2011       s1  771894.0  2011_s1"
      ]
     },
     "execution_count": 53,
     "metadata": {},
     "output_type": "execute_result"
    }
   ],
   "source": [
    "#Create a new column s2 that only contains the traffic generated in Jun-Dec\n",
    "df_pivot[\"s2\"] = df_pivot[\"cumulative_annual\"] - df_pivot[\"s1\"]\n",
    "\n",
    "#Transform our table for visualisation\n",
    "df_long = pd.melt(df_pivot, \n",
    "                  id_vars=[\"airport\", \"year\"], \n",
    "                  value_vars=[\"s1\", \"s2\"], \n",
    "                  var_name=\"semester\", \n",
    "                  value_name=\"traffic\")\n",
    "df_long[\"period\"] = df_long[\"year\"].astype(str) + \"_\" + df_long[\"semester\"]\n",
    "\n",
    "df_long = df_long.sort_values(by=[\"airport\", \"year\", \"semester\"])\n",
    "df_long = df_long.reset_index(drop=True)\n",
    "df_long.head()\n",
    "\n"
   ]
  },
  {
   "cell_type": "code",
   "execution_count": 54,
   "id": "c659b7c7",
   "metadata": {},
   "outputs": [
    {
     "data": {
      "image/png": "[encoded data removed]",
      "text/plain": [
       "<Figure size 432x288 with 1 Axes>"
      ]
     },
     "metadata": {},
     "output_type": "display_data"
    }
   ],
   "source": [
    "#Visualise the traffic trends per airport per year\n",
    "sns.set_style(\"darkgrid\")\n",
    "ax = sns.lineplot(data=df_long,x=\"period\",y=\"traffic\",hue=\"airport\")\n",
    "ax.tick_params(axis='x', rotation=90)\n",
    "plt.show()\n"
   ]
  },
  {
   "cell_type": "code",
   "execution_count": 55,
   "id": "ccf4caeb",
   "metadata": {},
   "outputs": [],
   "source": [
    "#Save the new cleaned data\n",
    "df_long.to_csv('trafic_ma_long_clean_new.csv')"
   ]
  }
 ],
 "metadata": {
  "kernelspec": {
   "display_name": "base",
   "language": "python",
   "name": "python3"
  },
  "language_info": {
   "codemirror_mode": {
    "name": "ipython",
    "version": 3
   },
   "file_extension": ".py",
   "mimetype": "text/x-python",
   "name": "python",
   "nbconvert_exporter": "python",
   "pygments_lexer": "ipython3",
   "version": "3.9.12"
  }
 },
 "nbformat": 4,
 "nbformat_minor": 5
}
